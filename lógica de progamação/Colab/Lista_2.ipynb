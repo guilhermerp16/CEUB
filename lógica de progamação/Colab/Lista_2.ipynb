{
  "nbformat": 4,
  "nbformat_minor": 0,
  "metadata": {
    "colab": {
      "provenance": []
    },
    "kernelspec": {
      "name": "python3",
      "display_name": "Python 3"
    },
    "language_info": {
      "name": "python"
    }
  },
  "cells": [
    {
      "cell_type": "code",
      "execution_count": null,
      "metadata": {
        "colab": {
          "base_uri": "https://localhost:8080/"
        },
        "id": "3N0mYKIC-rN9",
        "outputId": "dea760da-5e39-4aa1-db3f-c5c99340a1ac"
      },
      "outputs": [
        {
          "output_type": "stream",
          "name": "stdout",
          "text": [
            "Digite um número inteiro (negativo para sair): 45\n",
            "Digite um número inteiro (negativo para sair): 85\n",
            "Digite um número inteiro (negativo para sair): 46\n",
            "Digite um número inteiro (negativo para sair): 17\n",
            "Digite um número inteiro (negativo para sair): 32\n",
            "Digite um número inteiro (negativo para sair): -9\n",
            "A média dos números digitados é: 45.00\n"
          ]
        }
      ],
      "source": [
        "soma = 0\n",
        "contador = 0\n",
        "while True:\n",
        "    numero = int(input(\"Digite um número inteiro (negativo para sair): \"))\n",
        "    if numero < 0:\n",
        "        break\n",
        "    soma += numero\n",
        "    contador += 1\n",
        "print(f\"A média dos números digitados é: {soma / contador:.2f}\" if contador > 0 else \"Nenhum número foi digitado.\")"
      ]
    },
    {
      "cell_type": "code",
      "source": [
        "positivos = 0\n",
        "negativos = 0\n",
        "while True:\n",
        "    n = float(input(\"Digite um número inteiro (0 para parar): \"))\n",
        "    if n == 0:\n",
        "        break\n",
        "    elif n > 0:\n",
        "        positivos += 1\n",
        "    else:\n",
        "        negativos += 1\n",
        "print(f\"Números positivos: {positivos}\")\n",
        "print(f\"Números negativos: {negativos}\")"
      ],
      "metadata": {
        "id": "KIhwaX-kAcJo"
      },
      "execution_count": null,
      "outputs": []
    },
    {
      "cell_type": "code",
      "source": [
        "while True:\n",
        "    n = float(input(\"digite a nota: \"))\n",
        "    if n < 0 or n > 10:\n",
        "        print(\"Nota inválida\")\n",
        "        break"
      ],
      "metadata": {
        "id": "4IFJtWlBBSQd"
      },
      "execution_count": null,
      "outputs": []
    },
    {
      "cell_type": "code",
      "source": [
        "orçamento = float(input(\"Qual o orçamento? \"))\n",
        "if orçamento >= 100:\n",
        "  while True:\n",
        "    n = float(input(\"Digite o valor do produto: \"))\n",
        "    if n > orçamento:\n",
        "      print(\"Produto fora do orçamento\")\n",
        "      break\n",
        "    else:\n",
        "      print(\"Produto dentro do orçamento\")\n",
        "      orçamento -= n\n",
        "      print(f\"Orçamento restante: {orçamento}\")\n",
        "    if orçamento <= 0:\n",
        "      print(\"Orçamento esgotado\")\n",
        "      break\n",
        "else:\n",
        "  print(\"orçamento insuficiente\")"
      ],
      "metadata": {
        "id": "C4ttxw4DBUEJ",
        "colab": {
          "base_uri": "https://localhost:8080/"
        },
        "outputId": "19cd20c3-411d-41d0-f155-284812afde99"
      },
      "execution_count": null,
      "outputs": [
        {
          "output_type": "stream",
          "name": "stdout",
          "text": [
            "Qual o orçamento? 100\n",
            "Digite o valor do produto: 50\n",
            "Produto dentro do orçamento\n",
            "Orçamento restante: 50.0\n",
            "Digite o valor do produto: 80\n",
            "Produto fora do orçamento\n"
          ]
        }
      ]
    },
    {
      "cell_type": "code",
      "source": [
        "senha = 0\n",
        "cont = 0\n",
        "while senha != \"1234\"and cont < 3:\n",
        "  senha = input('senha incorreta. senha: ')\n",
        "  cont = cont + 1\n",
        "  print(f'cont: {cont}')\n",
        "\n",
        "if cont <= 3 and senha == \"1234\":\n",
        "  print(\"senha correta\")\n",
        "else:\n",
        "  print(\"limite\")\n"
      ],
      "metadata": {
        "id": "h_CHvRMECKxU",
        "colab": {
          "base_uri": "https://localhost:8080/"
        },
        "outputId": "4469c2a6-30b4-4b00-caa2-7446efeee2f6"
      },
      "execution_count": null,
      "outputs": [
        {
          "output_type": "stream",
          "name": "stdout",
          "text": [
            "senha incorreta. senha: 1\n",
            "cont: 1\n",
            "senha incorreta. senha: 12\n",
            "cont: 2\n",
            "senha incorreta. senha: 1234\n",
            "cont: 3\n",
            "senha correta\n"
          ]
        }
      ]
    },
    {
      "cell_type": "code",
      "source": [
        "#for\n",
        "#range(stop) // range (start,stop) // range(start,stop,step)\n",
        "\n",
        "list(range(1,10,2))"
      ],
      "metadata": {
        "colab": {
          "base_uri": "https://localhost:8080/"
        },
        "id": "ENn9tJe3e9m9",
        "outputId": "774bf455-ff1e-45d2-f8ad-7b78dd4749b6"
      },
      "execution_count": null,
      "outputs": [
        {
          "output_type": "execute_result",
          "data": {
            "text/plain": [
              "[1, 3, 5, 7, 9]"
            ]
          },
          "metadata": {},
          "execution_count": 27
        }
      ]
    },
    {
      "cell_type": "code",
      "source": [
        "#dor\n",
        "tab = int(input())\n",
        "for i in range(1,11):\n",
        "  print(f'{tab} x {i} = {tab * i}')"
      ],
      "metadata": {
        "colab": {
          "base_uri": "https://localhost:8080/"
        },
        "id": "yINr0ehtf7_X",
        "outputId": "cd6c41cc-27a0-4e51-d56e-79ebc258a286"
      },
      "execution_count": null,
      "outputs": [
        {
          "output_type": "stream",
          "name": "stdout",
          "text": [
            "5\n",
            "5 x 1 = 5\n",
            "5 x 2 = 10\n",
            "5 x 3 = 15\n",
            "5 x 4 = 20\n",
            "5 x 5 = 25\n",
            "5 x 6 = 30\n",
            "5 x 7 = 35\n",
            "5 x 8 = 40\n",
            "5 x 9 = 45\n",
            "5 x 10 = 50\n"
          ]
        }
      ]
    },
    {
      "cell_type": "code",
      "source": [
        "nome = input(\"Digite o nome: \").capitalize()\n",
        "while len(nome) <= 3:\n",
        "    nome = input(\"Nome inválido. Digite novamente: \").capitalize()\n",
        "idade = int(input(\"Digite a idade: \"))\n",
        "while idade < 0 or idade > 150:\n",
        "    idade = int(input(\"Idade inválida. Digite novamente: \"))\n",
        "salario = float(input(\"Digite o salário: \"))\n",
        "while salario <= 0:\n",
        "    salario = float(input(\"Salário inválido. Digite novamente: \"))\n",
        "sexo = input(\"Digite o sexo (f/m): \").lower()\n",
        "while sexo != 'f' and sexo != 'm':\n",
        "    sexo = input(\"Sexo inválido. Digite novamente (f/m): \").lower()\n",
        "estado_civil = input(\"Digite o estado civil (s/c/v/d): \").lower()\n",
        "while estado_civil not in ['s', 'c', 'v', 'd']:\n",
        "    estado_civil = input(\"Estado civil inválido. Digite novamente (s/c/v/d): \").lower()\n",
        "print(f\"{nome}\\n{idade}\\n{salario}\\n{sexo}\\n{estado_civil}\")"
      ],
      "metadata": {
        "colab": {
          "base_uri": "https://localhost:8080/"
        },
        "id": "8dpqGH--hB9E",
        "outputId": "a7a7a8a0-2892-4df9-8d8d-f130cfdd1d32"
      },
      "execution_count": null,
      "outputs": [
        {
          "name": "stdout",
          "output_type": "stream",
          "text": [
            "digite seu nome (no minimo 4 caracteres) guilheme\n",
            "Guilheme\n",
            "digite sua idade (entre 0 e 150)189\n",
            "idade invalida. tente novamente (entre 0 e 150): 8\n"
          ]
        }
      ]
    },
    {
      "cell_type": "code",
      "source": [
        "primeiro = int(input(\"Digite o primeiro número inteiro positivo: \"))\n",
        "segundo = int(input(\"Digite o segundo número inteiro positivo: \"))\n",
        "contador = 0\n",
        "x= primeiro\n",
        "resultado = 1\n",
        "while primeiro < 0 or segundo < 0:\n",
        "    print(\"Os números devem ser inteiros positivos.\")\n",
        "    primeiro = int(input(\"Digite o primeiro número inteiro positivo: \"))\n",
        "    contador = int(input(\"Digite o segundo número inteiro positivo: \"))\n",
        "while contador < segundo:\n",
        "    resultado *= primeiro\n",
        "    contador += 1\n",
        "print(f\"{primeiro} elevado a {segundo} é igual a {resultado}\")"
      ],
      "metadata": {
        "colab": {
          "base_uri": "https://localhost:8080/"
        },
        "id": "1kgSt_NhPtPO",
        "outputId": "0e1cb03d-9baa-4b22-a21d-8ff71d650458"
      },
      "execution_count": null,
      "outputs": [
        {
          "output_type": "stream",
          "name": "stdout",
          "text": [
            "Digite o primeiro número inteiro positivo: 6\n",
            "Digite o segundo número inteiro positivo: 4\n",
            "6 elevado a 4 é igual a 1296\n"
          ]
        }
      ]
    },
    {
      "cell_type": "code",
      "source": [
        "primeiro = int(input(\"Digite um número inteiro: \"))\n",
        "for i in range(1, 11):\n",
        "    resultado = primeiro * i\n",
        "    print(f\"{primeiro:3d} x {i:3d} = {resultado:3d}\")\n",
        "\n",
        "primeiro = int(input(\"Digite um número inteiro: \"))\n",
        "contador = 1\n",
        "resultado = 0\n",
        "while contador <= 10:\n",
        "    resultado = primeiro * contador\n",
        "    print(f\"{primeiro:3d} x {contador:3d} = {resultado:3d}\")\n",
        "    contador += 1"
      ],
      "metadata": {
        "colab": {
          "base_uri": "https://localhost:8080/"
        },
        "id": "_marxM2ZQd1o",
        "outputId": "eabe5e01-7975-4475-eefd-c2b55dc0346e"
      },
      "execution_count": null,
      "outputs": [
        {
          "output_type": "stream",
          "name": "stdout",
          "text": [
            "Digite um número inteiro: 6\n",
            "  6 x   1 =   6\n",
            "  6 x   2 =  12\n",
            "  6 x   3 =  18\n",
            "  6 x   4 =  24\n",
            "  6 x   5 =  30\n",
            "  6 x   6 =  36\n",
            "  6 x   7 =  42\n",
            "  6 x   8 =  48\n",
            "  6 x   9 =  54\n",
            "  6 x  10 =  60\n",
            "Digite um número inteiro: 2\n",
            "  2 x   1 =   2\n",
            "  2 x   2 =   4\n",
            "  2 x   3 =   6\n",
            "  2 x   4 =   8\n",
            "  2 x   5 =  10\n",
            "  2 x   6 =  12\n",
            "  2 x   7 =  14\n",
            "  2 x   8 =  16\n",
            "  2 x   9 =  18\n",
            "  2 x  10 =  20\n"
          ]
        }
      ]
    },
    {
      "cell_type": "code",
      "source": [
        "n = int(input(\"Digite um número inteiro positivo: \"))\n",
        "a, b = 1, 1\n",
        "print(\"Sequência de Fibonacci:\")\n",
        "print(a, end=\" \")\n",
        "\n",
        "for _ in range(n - 1):\n",
        "    print(b, end=\" \")\n",
        "    a, b = b, a + b"
      ],
      "metadata": {
        "colab": {
          "base_uri": "https://localhost:8080/"
        },
        "id": "9tZ_VJWmR1t6",
        "outputId": "f839d81f-f948-469b-a449-a8023e6b9d95"
      },
      "execution_count": null,
      "outputs": [
        {
          "output_type": "stream",
          "name": "stdout",
          "text": [
            "Digite um número inteiro positivo: 7\n",
            "Sequência de Fibonacci:\n",
            "1 1 2 3 5 8 13 "
          ]
        }
      ]
    },
    {
      "cell_type": "code",
      "source": [
        "n = int(input(\"Digite um número inteiro positivo: \"))\n",
        "fatorial = 1\n",
        "for i in range(1, n + 1):\n",
        "    fatorial *= i\n",
        "print(f\"O fatorial de {n} é {fatorial}.\")"
      ],
      "metadata": {
        "colab": {
          "base_uri": "https://localhost:8080/"
        },
        "id": "6DpAyeEVR2Y0",
        "outputId": "3d4fb88e-65e5-4c70-a14d-bd66b6d26b21"
      },
      "execution_count": null,
      "outputs": [
        {
          "output_type": "stream",
          "name": "stdout",
          "text": [
            "Digite um número inteiro positivo: 2\n",
            "O fatorial de 2 é 2.\n"
          ]
        }
      ]
    },
    {
      "cell_type": "code",
      "source": [
        "numero = int(input (\"Digite um número inteiro positivo: \"))\n",
        "contador = 0\n",
        "for i in range(1, numero + 1):\n",
        "    if numero % i == 0:\n",
        "        contador += 1\n",
        "if contador == 2:\n",
        "    print(f\"{numero} é um número primo.\")\n",
        "else:\n",
        "    print(f\"{numero} não é um número primo.\")"
      ],
      "metadata": {
        "colab": {
          "base_uri": "https://localhost:8080/"
        },
        "id": "jn0jDxh0SkiC",
        "outputId": "b8b998cb-8c47-4d14-a27c-4442b9564211"
      },
      "execution_count": null,
      "outputs": [
        {
          "output_type": "stream",
          "name": "stdout",
          "text": [
            "Digite um número inteiro positivo: 20\n",
            "20 não é um número primo.\n"
          ]
        }
      ]
    },
    {
      "cell_type": "code",
      "source": [
        "num1 = int(input(\"Digite um número inteiro: \"))\n",
        "num2 = int(input(\"Digite outro número inteiro: \"))\n",
        "\n",
        "if num1 > num2:\n",
        "    minimo = num1\n",
        "    maximo = num2\n",
        "else:\n",
        "    minimo = num2\n",
        "    maximo = num1\n",
        "while True:\n",
        "    if minimo % num1 == 0 and minimo % num2 == 0:\n",
        "        break\n",
        "    minimo += 1\n",
        "print(f\"O mínimo múltiplo comum (MMC) é: {minimo}\")\n",
        "while True:\n",
        "    if num1 % maximo == 0 and num2 % maximo == 0:\n",
        "        break\n",
        "    maximo -= 1\n",
        "print(f\"O máximo divisor comum (MDC) é: {maximo}\")"
      ],
      "metadata": {
        "colab": {
          "base_uri": "https://localhost:8080/"
        },
        "id": "dUgavNz4sIHw",
        "outputId": "d1dd2608-ace7-4f21-e9d4-df6821aa72b9"
      },
      "execution_count": null,
      "outputs": [
        {
          "output_type": "stream",
          "name": "stdout",
          "text": [
            "Digite um número inteiro: 15\n",
            "Digite outro número inteiro: 25\n",
            "O mínimo múltiplo comum (MMC) é: 75\n",
            "O máximo divisor comum (MDC) é: 5\n"
          ]
        }
      ]
    },
    {
      "cell_type": "code",
      "source": [
        "razão = int(input(\"Digite a razão da PA: \"))\n",
        "número_termo = int(input(\"Digite o número do termo que deseja encontrar: \"))\n",
        "primeiro_termo = int(input(\"Digite o primeiro termo da PA: \"))\n",
        "contador = 1\n",
        "resultado = primeiro_termo\n",
        "print(f\"O {contador:02d}º termo é: {primeiro_termo:3d}\")\n",
        "while contador < número_termo:\n",
        "    resultado += razão\n",
        "    contador += 1\n",
        "    print(f\"O {contador:02d}º termo é: {resultado:3d}\")\n",
        "print(f\"A soma dos termos é: {(resultado+primeiro_termo)*(contador)/2}\")"
      ],
      "metadata": {
        "colab": {
          "base_uri": "https://localhost:8080/"
        },
        "id": "8QgQAG46yYRY",
        "outputId": "8f6806a2-7047-48ff-8b85-2ed69977b74f"
      },
      "execution_count": null,
      "outputs": [
        {
          "output_type": "stream",
          "name": "stdout",
          "text": [
            "Digite a razão da PA: 5\n",
            "Digite o número do termo que deseja encontrar: 12\n",
            "Digite o primeiro termo da PA: 3\n",
            "O 1º termo é: 3\n",
            "O 2º termo é: 8\n",
            "O 3º termo é: 13\n",
            "O 4º termo é: 18\n",
            "O 5º termo é: 23\n",
            "O 6º termo é: 28\n",
            "O 7º termo é: 33\n",
            "O 8º termo é: 38\n",
            "O 9º termo é: 43\n",
            "O 10º termo é: 48\n",
            "O 11º termo é: 53\n",
            "O 12º termo é: 58\n",
            "A soma dos termos é: 366.0\n"
          ]
        }
      ]
    },
    {
      "cell_type": "code",
      "source": [
        "razão = int(input(\"Digite a razão da PA: \"))\n",
        "ttermo = int(input(\"Digite o terceiro termo da PA: \"))\n",
        "quantidade = int(input(\"Digite ate qual termo deseja ver: \"))\n",
        "primeiro_termo = ttermo - 2 * razão\n",
        "contador = 1\n",
        "resultado = primeiro_termo\n",
        "print(f\"O {contador}º termo é: {primeiro_termo:4d}\")\n",
        "while contador < quantidade:\n",
        "    resultado += razão\n",
        "    contador += 1\n",
        "    print(f\"O {contador}º termo é: {resultado:4d}\")\n",
        "print (f\"A soma dos termos é: {(resultado+primeiro_termo)*(contador)/2}\")"
      ],
      "metadata": {
        "colab": {
          "base_uri": "https://localhost:8080/"
        },
        "id": "Uk53BawXyZv9",
        "outputId": "b561fa56-7e73-476f-865a-dd7e6c143158"
      },
      "execution_count": null,
      "outputs": [
        {
          "output_type": "stream",
          "name": "stdout",
          "text": [
            "Digite a razão da PA: 7\n",
            "Digite o terceiro termo da PA: 78\n",
            "Digite ate qual termo deseja ver: 9\n",
            "O 1º termo é:   64\n",
            "O 2º termo é:   71\n",
            "O 3º termo é:   78\n",
            "O 4º termo é:   85\n",
            "O 5º termo é:   92\n",
            "O 6º termo é:   99\n",
            "O 7º termo é:  106\n",
            "O 8º termo é:  113\n",
            "O 9º termo é:  120\n"
          ]
        }
      ]
    },
    {
      "cell_type": "code",
      "source": [
        "razão = int(input(\"Digite a razão da PA: \"))\n",
        "qtermo = int(input(\"Digite o quarto termo da PA: \"))\n",
        "quantidade = int(input(\"Digite ate qual termo deseja somar?: \"))\n",
        "\n",
        "primeiro_termo = qtermo - 3 * razão\n",
        "contador = 1\n",
        "resultado = primeiro_termo\n",
        "\n",
        "print(f\"O {contador}º termo é: {primeiro_termo:4d}\")\n",
        "\n",
        "while contador < quantidade:\n",
        "    resultado += razão\n",
        "    contador += 1\n",
        "    print(f\"O {contador}º termo é: {resultado:4d}\")\n",
        "\n",
        "print(f\"A soma dos termos é: {(resultado+primeiro_termo)*(contador)/2}\")"
      ],
      "metadata": {
        "colab": {
          "base_uri": "https://localhost:8080/"
        },
        "id": "qaogy3jn1CNw",
        "outputId": "16ebc7cf-6a9a-4c04-fc9b-50b80d274a56"
      },
      "execution_count": null,
      "outputs": [
        {
          "output_type": "stream",
          "name": "stdout",
          "text": [
            "Digite a razão da PA: 2\n",
            "Digite o quarto termo da PA: 54\n",
            "Digite ate qual termo deseja somar?: 5\n",
            "O 1º termo é:   48\n",
            "O 2º termo é:   50\n",
            "O 3º termo é:   52\n",
            "O 4º termo é:   54\n",
            "O 5º termo é:   56\n",
            "A soma dos termos é: 260.0\n"
          ]
        }
      ]
    }
  ]
}