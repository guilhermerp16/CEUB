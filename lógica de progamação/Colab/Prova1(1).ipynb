{
 "cells": [
  {
   "cell_type": "markdown",
   "metadata": {
    "id": "2zy40S-oGIta"
   },
   "source": [
    "### INSTRUÇÕES\n",
    "\n",
    " - Fazer os exercícios em um arquivo notebook (de extensão *.ipynb)  \n",
    " - Exercícios que pedem entrada de usuário deverão ter valores fixados. Exemplo:  \n",
    "    num = 6 #int(input('Digite um número inteiro')\n",
    " - As questões deverão ser respondidas em ordem\n",
    " - Todas as questões deverão ter uma explicação breve de como você pensou na solução\n",
    " - Cópias de soluções zerarão a questão dos dois fraudadores\n",
    " - Cópias de outros lugares zerarão a questão.\n",
    " - Uso de recursos não vistos em aula zerarão a questão.\n",
    " - Colocar seu nome, curso e dia da semana no início do notebook"
   ]
  },
  {
   "cell_type": "code",
   "execution_count": null,
   "metadata": {
    "id": "w0krj558fmsA"
   },
   "outputs": [],
   "source": []
  },
  {
   "cell_type": "markdown",
   "metadata": {
    "id": "I9ysRuzvHIQz"
   },
   "source": [
    "### Dados\n",
    "Nome: Guilherme Ribeiro de Paula  \n",
    "Curso:  Ciência da Computação   \n",
    "Dia da semana:  Segunda-Feira"
   ]
  },
  {
   "cell_type": "code",
   "execution_count": null,
   "metadata": {
    "id": "WHof30N2GIEM"
   },
   "outputs": [],
   "source": []
  },
  {
   "cell_type": "code",
   "execution_count": null,
   "metadata": {
    "id": "FNHT-F13foEz"
   },
   "outputs": [],
   "source": []
  },
  {
   "cell_type": "markdown",
   "metadata": {
    "id": "Xr0tJjshfpG8"
   },
   "source": [
    "1)\tFaça um programa que peça o ano de nascimento e mostra a idade do usuário no fim de 2025 e o ano que esse usuário fez ou fará 50 anos."
   ]
  },
  {
   "cell_type": "code",
   "execution_count": null,
   "metadata": {
    "colab": {
     "base_uri": "https://localhost:8080/"
    },
    "executionInfo": {
     "elapsed": 5,
     "status": "ok",
     "timestamp": 1745840867641,
     "user": {
      "displayName": "Guilherme Ribeiro de Paula",
      "userId": "09733028765655335769"
     },
     "user_tz": 180
    },
    "id": "h5AEQikXfoCh",
    "outputId": "bfa3476e-0778-4a31-9879-ebcaa2bfb285"
   },
   "outputs": [
    {
     "name": "stdout",
     "output_type": "stream",
     "text": [
      "No final de 2025 vc terá 19 anos\n",
      "no final do ano de: 2056 vc terá/teve 50 anos\n"
     ]
    }
   ],
   "source": [
    "#input do ano que nasceu\n",
    "niver = 2006 #int(input(\"digite o ano em que vc nasceu: \"))\n",
    "#imprime e faz a conta do final do ano\n",
    "print(f\"No final de 2025 vc terá {2025 - niver} anos\")\n",
    "\n",
    "idade = 0\n",
    "ano = 0\n",
    "#verifica em que ano o usuário terá 50\n",
    "while idade < 50:\n",
    "  ano += 1\n",
    "  idade = ano - niver\n",
    "\n",
    "print(f\"no final do ano de: {ano} vc terá/teve 50 anos\")"
   ]
  },
  {
   "cell_type": "code",
   "execution_count": null,
   "metadata": {
    "id": "df7txZhjfn_k"
   },
   "outputs": [],
   "source": []
  },
  {
   "cell_type": "markdown",
   "metadata": {
    "id": "kx8EMup9fu_j"
   },
   "source": [
    "2)\t Faça um programa que peça números inteiros ao usuário e conta quantos números positivos e quantos números negativos foram digitados. O programa deverá parar quando o número zero for digitado, mostrando na tela os resultados. Além disso, o programa deverá informar se há mais números positivos, mais números negativos ou se há a mesma quantidade."
   ]
  },
  {
   "cell_type": "code",
   "execution_count": null,
   "metadata": {
    "colab": {
     "base_uri": "https://localhost:8080/"
    },
    "executionInfo": {
     "elapsed": 5,
     "status": "ok",
     "timestamp": 1745841765174,
     "user": {
      "displayName": "Guilherme Ribeiro de Paula",
      "userId": "09733028765655335769"
     },
     "user_tz": 180
    },
    "id": "sVwWM-7Efn8L",
    "outputId": "95faa28c-7844-4d9a-ed67-9381fead4a99"
   },
   "outputs": [
    {
     "name": "stdout",
     "output_type": "stream",
     "text": [
      "Números positivos: 0\n",
      "Números negativos: 0\n",
      "Mesma quantidade de números positivos e negativos.\n"
     ]
    }
   ],
   "source": [
    "#Variáveis nescessárias\n",
    "positivos = 0\n",
    "negativos = 0\n",
    "#loop de input\n",
    "while True:\n",
    "    n = 0 #int(input(\"Digite um número inteiro (0 para parar): \"))\n",
    "    #quebra do loop em caso de \"0\"\n",
    "    if n == 0:\n",
    "        break\n",
    "    #contador de P e N\n",
    "    if n > 0:\n",
    "        positivos += 1\n",
    "    else:\n",
    "        negativos += 1\n",
    "#print da quantidade de numeros P e N\n",
    "print(f\"Números positivos: {positivos}\")\n",
    "print(f\"Números negativos: {negativos}\")\n",
    "#verificador de qual teve maior frequência\n",
    "if positivos > negativos:\n",
    "    print(\"Mais números positivos.\")\n",
    "elif negativos > positivos:\n",
    "    print(\"Mais números negativos.\")\n",
    "else:\n",
    "    print(\"Mesma quantidade de números positivos e negativos.\")"
   ]
  },
  {
   "cell_type": "code",
   "execution_count": null,
   "metadata": {
    "id": "238226Qzf0uq"
   },
   "outputs": [],
   "source": []
  },
  {
   "cell_type": "markdown",
   "metadata": {
    "id": "I1XP2jRpf1lt"
   },
   "source": [
    "3) \tFaça um programa que converta a temperatura de graus Celsius para graus Farenheit ou vice-versa. O programa deverá perguntar se a temperatura de entrada está em Celsius ou Farenheit e mostrar a temperatura digitada convertida para a outra unidade. Fórmulas úteis:  $$C=\\frac{5(F-32)}{9}$$,   $$F=\\frac{9C}{5}+32$$."
   ]
  },
  {
   "cell_type": "code",
   "execution_count": null,
   "metadata": {
    "colab": {
     "base_uri": "https://localhost:8080/"
    },
    "executionInfo": {
     "elapsed": 5278,
     "status": "ok",
     "timestamp": 1745842505084,
     "user": {
      "displayName": "Guilherme Ribeiro de Paula",
      "userId": "09733028765655335769"
     },
     "user_tz": 180
    },
    "id": "HzYZeAfef1HF",
    "outputId": "3effddb9-f5fb-4649-8d35-e974b817031d"
   },
   "outputs": [
    {
     "name": "stdout",
     "output_type": "stream",
     "text": [
      "qual unidade de medida uzaremos? (Celcius(C) ou Farenheit(F)): F\n",
      "qantos graus: 75.2\n",
      "75.2 graus Farenheit são: 24.0 graus Celcius\n"
     ]
    }
   ],
   "source": [
    "uni = C  #input(\"qual unidade de medida uzaremos? (Celcius(C) ou Farenheit(F)): \")\n",
    "#celcius --> Farenheit\n",
    "if uni == \"C\":\n",
    "  temp =  24 #float(input(\"qantos graus: \"))\n",
    "  F = ((9*temp)/5)+32\n",
    "  print(f\"{temp} graus Celcius são: {F} graus Farenheit\")\n",
    "#Farenheit --> Celcius\n",
    "else:\n",
    "  temp = float(input(\"qantos graus: \"))\n",
    "  C = ((5*(temp-32))/9)\n",
    "  print(f\"{temp} graus Farenheit são: {C} graus Celcius\")"
   ]
  },
  {
   "cell_type": "code",
   "execution_count": null,
   "metadata": {
    "id": "0x74TOKNf8Pp"
   },
   "outputs": [],
   "source": []
  },
  {
   "cell_type": "markdown",
   "metadata": {
    "id": "zx4Qm4wIgmC2"
   },
   "source": [
    "4) \tFaça um programa que, dado um número n maior que 5, mostra a primeira letra do seu nome feita com n linhas contendo a letra x. Esse programa deverá ter, no máximo, 4 laços de repetição.\n",
    "Exemplo: n = 6 (letra A):  \n"
   ]
  },
  {
   "cell_type": "markdown",
   "metadata": {
    "id": "UXh7UMeS6idi"
   },
   "source": [
    "\n",
    "```\n",
    "Digite um número maior que 5: 6\n",
    "      x     \n",
    "     x x    \n",
    "    x   x   \n",
    "   xxxxxxx  \n",
    "  x       x\n",
    " x         x\n",
    "```\n"
   ]
  },
  {
   "cell_type": "code",
   "execution_count": 26,
   "metadata": {
    "colab": {
     "base_uri": "https://localhost:8080/"
    },
    "executionInfo": {
     "elapsed": 1703,
     "status": "ok",
     "timestamp": 1746448194357,
     "user": {
      "displayName": "Guilherme Ribeiro de Paula",
      "userId": "09733028765655335769"
     },
     "user_tz": 180
    },
    "id": "DdO2Jw4B5I8B",
    "outputId": "163cc831-27d2-4044-af8f-0acc1f4688fa"
   },
   "outputs": [
    {
     "name": "stdout",
     "output_type": "stream",
     "text": [
      "digite um numero inteiro: 7\n",
      "xxxxxxx \n",
      "x\n",
      "x\n",
      "x   xxxx\n",
      "x     x\n",
      "x     x\n",
      "x     x\n",
      "xxxxxxx\n"
     ]
    }
   ],
   "source": [
    "numero= int(input(\"digite um numero inteiro: \"))\n",
    "metade = numero/2\n",
    "metade = round(metade)\n",
    "\n",
    "#eu fiz basicamnete 3 linhas (no inicio,meio e fim) a do meio é furda e a partir dela o numero de espaços é = ao numero de linhas - 2 (por conta dos 2 x nas pontas)\n",
    "print(f\"x\"*numero,\"\\nx\"*((int(metade)-2)))\n",
    "print(\"x\",\" \"*(metade-3),\"x\"*metade)\n",
    "for i in range (metade-1):\n",
    "    print(\"x\",\" \"*(numero-4),\"x\")\n",
    "print(\"x\"*numero)"
   ]
  },
  {
   "cell_type": "code",
   "execution_count": null,
   "metadata": {
    "id": "PlK5-01yHb8S"
   },
   "outputs": [],
   "source": []
  },
  {
   "cell_type": "markdown",
   "metadata": {
    "id": "Y8G9orQV5JdJ"
   },
   "source": [
    "Faça um programa que mostre o seguinte padrão na tela, dado um número n:"
   ]
  },
  {
   "cell_type": "markdown",
   "metadata": {
    "id": "V2nNYQo95j1l"
   },
   "source": [
    "Digite um número inteiro positivo: 6  \n",
    "1  \n",
    "7 2  \n",
    "12 8 3  \n",
    "16 13 9 4  \n",
    "19 17 14 10 5  \n",
    "21 20 18 15 11 6"
   ]
  },
  {
   "cell_type": "markdown",
   "metadata": {
    "id": "vWmTrxz05tPQ"
   },
   "source": [
    "## Digite um número inteiro positivo: 4  \n",
    "1  \n",
    "5 2  \n",
    "8 6 3  \n",
    "10 9 7 4  "
   ]
  },
  {
   "cell_type": "code",
   "execution_count": null,
   "metadata": {
    "colab": {
     "base_uri": "https://localhost:8080/"
    },
    "executionInfo": {
     "elapsed": 5,
     "status": "ok",
     "timestamp": 1745848267399,
     "user": {
      "displayName": "Guilherme Ribeiro de Paula",
      "userId": "09733028765655335769"
     },
     "user_tz": 180
    },
    "id": "dDlYfLqnf8TH",
    "outputId": "09db2656-ca8f-4f6a-c914-84be8bcca85a"
   },
   "outputs": [],
   "source": []
  },
  {
   "cell_type": "code",
   "execution_count": 21,
   "metadata": {
    "colab": {
     "base_uri": "https://localhost:8080/"
    },
    "executionInfo": {
     "elapsed": 1698,
     "status": "ok",
     "timestamp": 1746445510690,
     "user": {
      "displayName": "Guilherme Ribeiro de Paula",
      "userId": "09733028765655335769"
     },
     "user_tz": 180
    },
    "id": "zv4DBsqY4qk3",
    "outputId": "8af49db8-a2ee-4806-b9b2-214e31d1b58e"
   },
   "outputs": [
    {
     "name": "stdout",
     "output_type": "stream",
     "text": [
      "digite um número inteiro positivo: 8\n",
      "1  \n",
      "9   2  \n",
      "16  10   3  \n",
      "22  17  11   4  \n",
      "27  23  18  12   5  \n",
      "31  28  24  19  13   6  \n",
      "34  32  29  25  20  14   7  \n",
      "36  35  33  30  26  21  15   8  \n"
     ]
    }
   ],
   "source": [
    "linhas = int(input(\"digite um número inteiro positivo: \"))\n",
    "primeira = 1\n",
    "step_v = linhas + 1\n",
    "\n",
    "for i in range(1, linhas + 1): #linha\n",
    "  for j in range(1, i + 1): #coluna\n",
    "    if i == 1 and j == 1:\n",
    "      print(primeira, end='  ')\n",
    "    elif j == 1:\n",
    "      primeira = primeira + step_v\n",
    "      outros = primeira\n",
    "      passo_h = step_v - 1\n",
    "      print(primeira, end='  ')\n",
    "    else:\n",
    "      outros = outros - passo_h\n",
    "      print(f'{outros:2d}',end= '  ')\n",
    "      passo_h += 1\n",
    "  step_v = step_v -1\n",
    "\n",
    "  print()"
   ]
  },
  {
   "cell_type": "code",
   "execution_count": null,
   "metadata": {
    "colab": {
     "base_uri": "https://localhost:8080/"
    },
    "executionInfo": {
     "elapsed": 15,
     "status": "ok",
     "timestamp": 1746445652285,
     "user": {
      "displayName": "Guilherme Ribeiro de Paula",
      "userId": "09733028765655335769"
     },
     "user_tz": 180
    },
    "id": "EjUWIte44qWX",
    "outputId": "ff1b314c-798d-4569-9bfc-1aae453fae4b"
   },
   "outputs": [],
   "source": []
  }
 ],
 "metadata": {
  "colab": {
   "provenance": []
  },
  "kernelspec": {
   "display_name": "Python 3",
   "name": "python3"
  },
  "language_info": {
   "codemirror_mode": {
    "name": "ipython",
    "version": 3
   },
   "file_extension": ".py",
   "mimetype": "text/x-python",
   "name": "python",
   "nbconvert_exporter": "python",
   "pygments_lexer": "ipython3",
   "version": "3.13.2"
  }
 },
 "nbformat": 4,
 "nbformat_minor": 0
}
