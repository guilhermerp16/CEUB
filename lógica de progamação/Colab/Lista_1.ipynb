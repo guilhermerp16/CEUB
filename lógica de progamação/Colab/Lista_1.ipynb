{
  "nbformat": 4,
  "nbformat_minor": 0,
  "metadata": {
    "colab": {
      "provenance": []
    },
    "kernelspec": {
      "name": "python3",
      "display_name": "Python 3"
    },
    "language_info": {
      "name": "python"
    }
  },
  "cells": [
    {
      "cell_type": "code",
      "execution_count": null,
      "metadata": {
        "colab": {
          "base_uri": "https://localhost:8080/"
        },
        "id": "jUUwwY7hsmvw",
        "outputId": "5b45e6a8-d550-432e-c3f1-441f197250cb"
      },
      "outputs": [
        {
          "output_type": "stream",
          "name": "stdout",
          "text": [
            "digite seu primeiro nome: astolfo\n",
            "astolfo\n"
          ]
        }
      ],
      "source": [
        "nome = input(\"digite seu primeiro nome: \")\n",
        "print(nome)\n",
        "#bom dia"
      ]
    },
    {
      "cell_type": "code",
      "source": [
        "nome = input(\"digite seu primeiro nome: \").capitalize()\n",
        "sobrenome = input(\"digite seu sobrenome: \").capitalize()\n",
        "print(nome,sobrenome)"
      ],
      "metadata": {
        "colab": {
          "base_uri": "https://localhost:8080/"
        },
        "id": "GqQ_m1sGstLu",
        "outputId": "318fce44-85ae-45c0-d8fb-571c831e0609"
      },
      "execution_count": null,
      "outputs": [
        {
          "output_type": "stream",
          "name": "stdout",
          "text": [
            "digite seu primeiro nome: Guilherme\n",
            "digite seu sobrenome: Ribeior\n",
            "Guilherme Ribeior\n"
          ]
        }
      ]
    },
    {
      "cell_type": "code",
      "source": [
        "print(\"x     x\\n x   x\\n  x x\\n   x\\n  x x\\n x   x\\nx     x\")"
      ],
      "metadata": {
        "colab": {
          "base_uri": "https://localhost:8080/"
        },
        "id": "_UHbzXpitSAg",
        "outputId": "90d86e0e-3a1a-4fce-e0e3-fdeeec0c95d1"
      },
      "execution_count": null,
      "outputs": [
        {
          "output_type": "stream",
          "name": "stdout",
          "text": [
            "x     x\n",
            " x   x\n",
            "  x x\n",
            "   x\n",
            "  x x\n",
            " x   x\n",
            "x     x\n"
          ]
        }
      ]
    },
    {
      "cell_type": "code",
      "source": [
        "z=int(input(\"dia do aniversário: \"))\n",
        "x=input(\"mês do aniversário: \")\n",
        "a=int(input(\"dia de hj: \"))\n",
        "b=input(\"mês de hj: \")\n",
        "if x == \"janeiro\" or x == \"1\":\n",
        "  m=0\n",
        "elif x == \"fevereiro\" or x == \"2\":\n",
        "  m=31\n",
        "elif x == \"março\" or x == \"3\":\n",
        "  m=59\n",
        "if x == \"abril\" or x == \"4\":\n",
        "  m=90\n",
        "if x == \"maio\" or x == \"5\":\n",
        "  m=120\n",
        "if x == \"junho\" or x == \"6\":\n",
        "  m=151\n",
        "if x == \"julho\" or x == \"7\":\n",
        "  m=181\n",
        "if x == \"agosto\" or x == \"8\":\n",
        "  m=212\n",
        "if x == \"setempro\" or x == \"9\":\n",
        "  m=242\n",
        "if x == \"outubro\" or x == \"10\":\n",
        "  m=273\n",
        "if x == \"novembro\" or x == \"11\":\n",
        "  m=303\n",
        "if x == \"dezembro\" or x == \"12\":\n",
        "  m=334\n",
        "if b == \"janeiro\" or b == \"1\":\n",
        "  d=0\n",
        "if b == \"fevereiro\" or b == \"2\":\n",
        "  d=31\n",
        "if b == \"março\" or b == \"3\":\n",
        "  d=59\n",
        "if b == \"abril\" or b == \"4\":\n",
        "  d=90\n",
        "if b == \"maio\" or b == \"5\":\n",
        "  d=120\n",
        "if b == \"junho\" or b == \"6\":\n",
        "  d=151\n",
        "if b == \"julho\" or b == \"7\":\n",
        "  d=181\n",
        "if b == \"agosto\" or b == \"8\":\n",
        "  d=212\n",
        "if b == \"setempro\" or b == \"9\":\n",
        "  d=242\n",
        "if b == \"outubro\" or b == \"10\":\n",
        "  d=273\n",
        "if b == \"novembro\" or b == \"11\":\n",
        "  d=303\n",
        "if b == \"dezembro\" or b == \"12\":\n",
        "  d=334\n",
        "h = int(z+m)-int(a+d)\n",
        "print(h)\n",
        "if h > 0:\n",
        "  print(\"faltam:\",h,\"dia(s) pro seu anivérsario\")\n",
        "if h < 0:\n",
        "  print(\"faz\",-h,\"dia(s) desde o seu aniversário\")\n",
        "if h==0:\n",
        "  print(\"hj é a por-- do seu aniversário. pq vc ta querendo saber isso. caso vc ainda queira saber. FALTAM 365 PRO DIA QUE SUA MÃE TE PARIU\")"
      ],
      "metadata": {
        "colab": {
          "base_uri": "https://localhost:8080/"
        },
        "id": "955Ff6Fntzd7",
        "outputId": "5fa08612-dc3c-440b-8f37-a588eeecccf1"
      },
      "execution_count": null,
      "outputs": [
        {
          "output_type": "stream",
          "name": "stdout",
          "text": [
            "dia do aniversário: 16\n",
            "mês do aniversário: 12\n",
            "dia de hj: 13\n",
            "mês de hj: 4\n",
            "247\n",
            "faltam: 247 dia(s) pro seu anivérsario\n"
          ]
        }
      ]
    },
    {
      "cell_type": "code",
      "source": [
        "P=input(\"preço: \")\n",
        "print(\"então...  \\ngostei de vc    \\nvo faze um preço de amigo pra tu\")\n",
        "D = float(P)*float(0.8)\n",
        "d = float(P)*float(0.2)\n",
        "print(float(D),\"oq tu acha?\\nvai economizar\",float\n",
        " (d),\"conto\")"
      ],
      "metadata": {
        "colab": {
          "base_uri": "https://localhost:8080/"
        },
        "id": "p6XKWrPNx4n1",
        "outputId": "bb181353-2a31-43aa-98c1-80ffb68ba46f"
      },
      "execution_count": null,
      "outputs": [
        {
          "output_type": "stream",
          "name": "stdout",
          "text": [
            "preço: 60\n",
            "então...  \n",
            "gostei de vc    \n",
            "vo faze um preço de amigo pra tu\n",
            "48.0 oq tu acha?\n",
            "vai economizar 12.0 conto\n"
          ]
        }
      ]
    },
    {
      "cell_type": "code",
      "source": [
        "P=input(\"preço: \")\n",
        "N=input(\"quanto de desconto vc quer negociar:\")\n",
        "print(\"então...  \\ngostei de vc e te achei um eximio negociador   \\nvo faze um preço de amigo pra tu\")\n",
        "D = float(P)*float(100-float(N))/float(100)\n",
        "d = float(P)*float(N)/float(100)\n",
        "print(float(D),\"conto ent?\\nta\",float(d),\"mais barato\")"
      ],
      "metadata": {
        "colab": {
          "base_uri": "https://localhost:8080/"
        },
        "id": "ZEA0KtCvyHrh",
        "outputId": "f640cec5-aa06-48a3-cc05-d8e9e3444bf0"
      },
      "execution_count": null,
      "outputs": [
        {
          "output_type": "stream",
          "name": "stdout",
          "text": [
            "preço: 100\n",
            "quanto de desconto vc quer negociar:70\n",
            "então...  \n",
            "gostei de vc e te achei um eximio negociador   \n",
            "vo faze um preço de amigo pra tu\n",
            "30.0 conto ent?\n",
            "ta 70.0 mais barato\n"
          ]
        }
      ]
    },
    {
      "cell_type": "code",
      "source": [
        "p=input(\"primeiro: \")\n",
        "s=input(\"segundo: \")\n",
        "t=input(\"terceiro: \")\n",
        "M=(float(p)+float(t)+float(s))/float(3)\n",
        "print(float(M))"
      ],
      "metadata": {
        "colab": {
          "base_uri": "https://localhost:8080/"
        },
        "id": "pWI1F2oqyThY",
        "outputId": "8d1176dd-ee7c-426d-eb45-a882e8c261dd"
      },
      "execution_count": null,
      "outputs": [
        {
          "output_type": "stream",
          "name": "stdout",
          "text": [
            "primeiro: 2\n",
            "segundo: 4\n",
            "terceiro: 1\n",
            "2.3333333333333335\n"
          ]
        }
      ]
    },
    {
      "cell_type": "code",
      "source": [
        "p=input(\"primeiro: \")\n",
        "s=input(\"segundo: \")\n",
        "t=input(\"terceiro: \")\n",
        "q=input(\"quarto: \")\n",
        "mg=(float(q)*float(t)*float(s)*float(p))**float(0.25)\n",
        "mh=float(4)/(float(p)**float(-1)+float(s)**float(-1)+float(t)**float(-1)+float(q)**float(-1))\n",
        "M=(float(p)+float(t)+float(s)+float(q))/float(4)\n",
        "print(\"média aritmética:\",M)\n",
        "print(\"média geométrica:\",mg)\n",
        "print(\"média harmonica:\",mh)"
      ],
      "metadata": {
        "colab": {
          "base_uri": "https://localhost:8080/"
        },
        "id": "989oJU3_yUs4",
        "outputId": "63ddb4e5-a5d0-4fcd-f524-ebad1b0a6402"
      },
      "execution_count": null,
      "outputs": [
        {
          "output_type": "stream",
          "name": "stdout",
          "text": [
            "primeiro: 4\n",
            "segundo: 2\n",
            "terceiro: 6\n",
            "quarto: 2\n",
            "média aritmética: 3.5\n",
            "média geométrica: 3.1301691601465746\n",
            "média harmonica: 2.823529411764706\n"
          ]
        }
      ]
    },
    {
      "cell_type": "code",
      "source": [
        "import math\n",
        "print(\"Digite 4 números reais:\")\n",
        "n1 = float(input(\"Número 1: \"))\n",
        "n2 = float(input(\"Número 2: \"))\n",
        "n3 = float(input(\"Número 3: \"))\n",
        "n4 = float(input(\"Número 4: \"))\n",
        "\n",
        "numeros = [n1, n2, n3, n4]\n",
        "\n",
        "media = sum(numeros) / len(numeros)\n",
        "\n",
        "variancia = sum((x - media) ** 2 for x in numeros) / len(numeros)\n",
        "\n",
        "desvio_padrao = (variancia) ** (1/2)\n",
        "\n",
        "print(f\"\\nMédia aritmética: {media:.2f}\")\n",
        "print(f\"Variância populacional: {variancia:.2f}\")\n",
        "print(f\"Desvio padrão: {desvio_padrao:.2f}\")"
      ],
      "metadata": {
        "colab": {
          "base_uri": "https://localhost:8080/"
        },
        "id": "QKvTF0p8ytMz",
        "outputId": "e1b0e234-5ccc-4351-d630-8c6243d4cfc6"
      },
      "execution_count": null,
      "outputs": [
        {
          "output_type": "stream",
          "name": "stdout",
          "text": [
            "Digite o primeiro número: 4\n",
            "Digite o segundo número: 2\n",
            "Digite o terceiro número: 5\n",
            "Digite o quarto número: 1\n",
            "Média: 3.0\n",
            "Variância: 2.5\n",
            "Desvio padrão: 1.5811388300841898\n"
          ]
        }
      ]
    },
    {
      "cell_type": "code",
      "source": [
        "primeiro = int(input(\"Digite o primeiro número: \"))\n",
        "segundo = int(input(\"Digite o segundo número: \"))\n",
        "terceiro = int(input(\"Digite o terceiro número: \"))\n",
        "print (f\"O maior número é {max(primeiro, segundo, terceiro)}\")\n",
        "print (f\"O menor número é {min(primeiro, segundo, terceiro)}\")"
      ],
      "metadata": {
        "colab": {
          "base_uri": "https://localhost:8080/"
        },
        "id": "a5JzlBjA2XHy",
        "outputId": "27bff6d1-85c2-44e2-a25d-dd42f0cc8c92"
      },
      "execution_count": null,
      "outputs": [
        {
          "output_type": "stream",
          "name": "stdout",
          "text": [
            "Digite o primeiro número: 2\n",
            "Digite o segundo número: 5\n",
            "Digite o terceiro número: 1\n",
            "O maior número é 5\n",
            "O menor número é 1\n"
          ]
        }
      ]
    },
    {
      "cell_type": "code",
      "source": [
        "primeiro = int(input(\"Digite o primeiro número: \"))\n",
        "segundo = int(input(\"Digite o segundo número: \"))\n",
        "terceiro = int(input(\"Digite o terceiro número: \"))\n",
        "print (f\"em ordem crescente: {sorted([primeiro, segundo, terceiro])}\")\n",
        "print (f\"em ordem decrescente: {sorted([primeiro, segundo, terceiro], reverse=True)}\")"
      ],
      "metadata": {
        "colab": {
          "base_uri": "https://localhost:8080/"
        },
        "id": "3_rjN_kx3fOt",
        "outputId": "c15ff6d8-419a-497c-89f1-196f98635090"
      },
      "execution_count": null,
      "outputs": [
        {
          "output_type": "stream",
          "name": "stdout",
          "text": [
            "Digite o primeiro número: 6\n",
            "Digite o segundo número: 2\n",
            "Digite o terceiro número: 1\n",
            "em ordem crescente: [1, 2, 6]\n",
            "em ordem decrescente: [6, 2, 1]\n"
          ]
        }
      ]
    },
    {
      "cell_type": "code",
      "source": [
        "lista = input('digite seu texto separado por espaços: ').split(\" \")\n",
        "lista.sort()\n",
        "print(lista)"
      ],
      "metadata": {
        "colab": {
          "base_uri": "https://localhost:8080/"
        },
        "id": "f7Zea63O3mMR",
        "outputId": "26fd7bf1-e31a-4fc4-e1f1-26e047a71d02"
      },
      "execution_count": null,
      "outputs": [
        {
          "output_type": "stream",
          "name": "stdout",
          "text": [
            "digite seu texto separado por espaços: c a b\n",
            "['a', 'b', 'c']\n"
          ]
        }
      ]
    },
    {
      "cell_type": "code",
      "source": [
        "genero = input(\"Digite o seu gênero (masuclino/feminino): \").strip().lower()\n",
        "idade = int(input(\"Digite a sua idade: \"))\n",
        "peso = float(input(\"Digite o seu peso em kg: \"))\n",
        "altura = float(input(\"Digite a sua altura em cm: \"))\n",
        "if genero == \"masculino\" or genero == \"m\":\n",
        "    TMB = (66.47 + (13.75 * peso ) + (5.003 * altura) - (6.755 * idade))\n",
        "elif genero == \"feminino\" or genero == \"f\":\n",
        "    TMB = (655.09 + (9.563 * peso) + (1.85 * altura) - (4.676 * idade))\n",
        "else:\n",
        "    print(\"Gênero inválido\")\n",
        "    exit()\n",
        "print (f\"Taxa Metabólica Basal: {TMB:.2f} kcal/dia\")"
      ],
      "metadata": {
        "id": "ZAVjkBCc7I8w"
      },
      "execution_count": null,
      "outputs": []
    },
    {
      "cell_type": "code",
      "source": [
        "numero = int(input(\"Digite um número inteiro: \"))\n",
        "for i in range(1, 21):\n",
        "    resultado = numero * i\n",
        "    print(f\"{numero:3d} x {i:3d} = {resultado:3d}\")"
      ],
      "metadata": {
        "colab": {
          "base_uri": "https://localhost:8080/"
        },
        "id": "3XGdW3YW7KFt",
        "outputId": "8a66330f-2bfb-4fdb-8246-65fe750e4c36"
      },
      "execution_count": null,
      "outputs": [
        {
          "output_type": "stream",
          "name": "stdout",
          "text": [
            "Digite um número inteiro: 10\n",
            " 10 x   1 =  10\n",
            " 10 x   2 =  20\n",
            " 10 x   3 =  30\n",
            " 10 x   4 =  40\n",
            " 10 x   5 =  50\n",
            " 10 x   6 =  60\n",
            " 10 x   7 =  70\n",
            " 10 x   8 =  80\n",
            " 10 x   9 =  90\n",
            " 10 x  10 = 100\n",
            " 10 x  11 = 110\n",
            " 10 x  12 = 120\n",
            " 10 x  13 = 130\n",
            " 10 x  14 = 140\n",
            " 10 x  15 = 150\n",
            " 10 x  16 = 160\n",
            " 10 x  17 = 170\n",
            " 10 x  18 = 180\n",
            " 10 x  19 = 190\n",
            " 10 x  20 = 200\n"
          ]
        }
      ]
    },
    {
      "cell_type": "code",
      "source": [
        "numero = int(input(\"Digite um número inteiro: \"))\n",
        "print(f'{numero} x {1:2d} = {numero * 1:2d}')\n",
        "print(f'{numero} x {2:2d} = {numero * 2:2d}')\n",
        "print(f'{numero} x {3:2d} = {numero * 3:2d}')\n",
        "print(f'{numero} x {4:2d} = {numero * 4:2d}')\n",
        "print(f'{numero} x {5:2d} = {numero * 5:2d}')\n",
        "print(f'{numero} x {6:2d} = {numero * 6:2d}')\n",
        "print(f'{numero} x {7:2d} = {numero * 7:2d}')\n",
        "print(f'{numero} x {8:2d} = {numero * 8:2d}')\n",
        "print(f'{numero} x {9:2d} = {numero * 9:2d}')\n",
        "print(f'{numero} x {10:2d} = {numero * 10:2d}')"
      ],
      "metadata": {
        "colab": {
          "base_uri": "https://localhost:8080/"
        },
        "id": "gpBhQ-qKEmze",
        "outputId": "c0f89d48-93ab-4c88-a59e-dd0ce465a33d"
      },
      "execution_count": null,
      "outputs": [
        {
          "output_type": "stream",
          "name": "stdout",
          "text": [
            "Digite um número inteiro: 6\n",
            "6 x  1 =  6\n",
            "6 x  2 = 12\n",
            "6 x  3 = 18\n",
            "6 x  4 = 24\n",
            "6 x  5 = 30\n",
            "6 x  6 = 36\n",
            "6 x  7 = 42\n",
            "6 x  8 = 48\n",
            "6 x  9 = 54\n",
            "6 x 10 = 60\n"
          ]
        }
      ]
    },
    {
      "cell_type": "code",
      "source": [
        "print(f'{23:+4d}')\n",
        "print(f'{1:+04d}')\n",
        "print(f'{23:+4d}')"
      ],
      "metadata": {
        "colab": {
          "base_uri": "https://localhost:8080/"
        },
        "id": "l5258kfVGgwU",
        "outputId": "33c45463-eada-4a22-c813-9c93153dc25a"
      },
      "execution_count": null,
      "outputs": [
        {
          "output_type": "stream",
          "name": "stdout",
          "text": [
            " +23\n",
            "+001\n",
            " +23\n"
          ]
        }
      ]
    },
    {
      "cell_type": "code",
      "source": [
        "print(f'{3.14159}')\n",
        "print(f'{3.14159:.4f}')"
      ],
      "metadata": {
        "colab": {
          "base_uri": "https://localhost:8080/"
        },
        "id": "0Mb-t2siGgvR",
        "outputId": "0ffbd9bf-9aff-4003-ce80-b298489210fb"
      },
      "execution_count": null,
      "outputs": [
        {
          "output_type": "stream",
          "name": "stdout",
          "text": [
            "3.14159\n",
            "3.1416\n"
          ]
        }
      ]
    },
    {
      "cell_type": "code",
      "source": [
        "x = 2.62\n",
        "print(f'{(1.62 * x):.1f}')"
      ],
      "metadata": {
        "colab": {
          "base_uri": "https://localhost:8080/"
        },
        "id": "MoQxGFxRJWen",
        "outputId": "e3682c32-858c-4ee0-b5d0-7cd2ece0969a"
      },
      "execution_count": null,
      "outputs": [
        {
          "output_type": "stream",
          "name": "stdout",
          "text": [
            "4.2\n"
          ]
        }
      ]
    }
  ]
}